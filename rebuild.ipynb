{
 "cells": [
  {
   "cell_type": "code",
   "execution_count": 1,
   "metadata": {
    "collapsed": false
   },
   "outputs": [
    {
     "name": "stdout",
     "output_type": "stream",
     "text": [
      "Populating the interactive namespace from numpy and matplotlib\n"
     ]
    }
   ],
   "source": [
    "%pylab inline\n",
    "import glob\n",
    "import sys\n",
    "import os\n",
    "from collections import OrderedDict\n",
    "import caffe\n",
    "from DeepImageSynthesis import *\n",
    "\n",
    "#set caculation mode and choose gpu device\n",
    "\n",
    "gpu = 0\n",
    "caffe.set_mode_gpu() #for cpu mode do 'caffe.set_mode_cpu()'\n",
    "caffe.set_device(gpu)\n",
    "'''\n",
    "caffe.set_mode_cpu()\n",
    "'''\n",
    "#Path parameters\n",
    "#VGGweights = '/home/yeze/Documents/gitxivprojects/DeepTextures/Models/VGG_normalised.caffemodel'\n",
    "#VGGmodel = '/home/yeze/Documents/gitxivprojects/DeepTextures/Models/VGG_ave_pool_deploy.prototxt'\n",
    "VGGmodel = 'Models/testmodel/cut.prototxt'\n",
    "VGGweights = 'Models/testmodel/dst.caffemodel'\n",
    "source_img_name = '/home/yeze/Documents/gitxivprojects/DeepTextures/Images/lishu/12.jpg'\n",
    "imagenet_mean = numpy.array([ 0.40760392,  0.45795686,  0.48501961]) #mean for color channels (bgr)"
   ]
  },
  {
   "cell_type": "code",
   "execution_count": 3,
   "metadata": {
    "collapsed": false
   },
   "outputs": [
    {
     "name": "stdout",
     "output_type": "stream",
     "text": [
      "Image loaded!\n",
      "Net loaded!\n"
     ]
    }
   ],
   "source": [
    "#load source image\n",
    "im_size = 36.\n",
    "source_img, net = load_resources(caffe.io.load_image(source_img_name), im_size, \n",
    "                            VGGmodel, VGGweights, imagenet_mean, \n",
    "                            show_img=True)\n",
    "im_size = asarray(source_img.shape[-2:])\n",
    "initpic = caffe.io.load_image('./Images/songti/129.jpg')"
   ]
  },
  {
   "cell_type": "code",
   "execution_count": 2,
   "metadata": {
    "collapsed": false
   },
   "outputs": [
    {
     "ename": "SystemExit",
     "evalue": "",
     "output_type": "error",
     "traceback": [
      "An exception has occurred, use %tb to see the full traceback.\n",
      "\u001b[1;31mSystemExit\u001b[0m\n"
     ]
    },
    {
     "name": "stderr",
     "output_type": "stream",
     "text": [
      "To exit: use 'exit', 'quit', or Ctrl-D.\n"
     ]
    }
   ],
   "source": [
    "#l-bfgs parameters optimisation\n",
    "maxiter = 50\n",
    "m = 10\n",
    "\n",
    "#define layers to include in the texture model and weights w_l\n",
    "tex_layers = ['pool2', 'pool1', 'conv1']\n",
    "tex_weights = [1e9,1e9,1e9]\n",
    "\n",
    "#pass image through the network and save the constraints on each layer\n",
    "constraints = OrderedDict()\n",
    "net.forward(data = source_img)\n",
    "for l,layer in enumerate(tex_layers):\n",
    "    constraints[layer] = constraint([LossFunctions.gram_mse_loss],\n",
    "                                    [{'target_gram_matrix': gram_matrix(net.blobs[layer].data),\n",
    "                                      'weight': tex_weights[l]}])\n",
    "#get optimisation bounds\n",
    "bounds = get_bounds([source_img],im_size)\n",
    "\n",
    "#generate new texture\n",
    "result = ImageSyn(net, constraints, init=initpic, bounds=bounds,\n",
    "                  callback=lambda x: show_progress(x,net), \n",
    "                  minimize_options={'maxiter': maxiter,\n",
    "                                    'maxcor': m,\n",
    "                                    'fttol': 0, 'gtol': 0})"
   ]
  },
  {
   "cell_type": "code",
   "execution_count": 4,
   "metadata": {
    "collapsed": false
   },
   "outputs": [
    {
     "data": {
      "text/plain": [
       "array([36, 36])"
      ]
     },
     "execution_count": 4,
     "metadata": {},
     "output_type": "execute_result"
    }
   ],
   "source": [
    "im_size"
   ]
  },
  {
   "cell_type": "code",
   "execution_count": 6,
   "metadata": {
    "collapsed": false
   },
   "outputs": [
    {
     "data": {
      "text/plain": [
       "3888"
      ]
     },
     "execution_count": 6,
     "metadata": {},
     "output_type": "execute_result"
    }
   ],
   "source": [
    "len(get_bounds([source_img],im_size))"
   ]
  },
  {
   "cell_type": "code",
   "execution_count": 7,
   "metadata": {
    "collapsed": false
   },
   "outputs": [
    {
     "data": {
      "text/plain": [
       "(1, 3, 36, 36)"
      ]
     },
     "execution_count": 7,
     "metadata": {},
     "output_type": "execute_result"
    }
   ],
   "source": [
    "net.blobs['data'].data.shape"
   ]
  },
  {
   "cell_type": "code",
   "execution_count": null,
   "metadata": {
    "collapsed": true
   },
   "outputs": [],
   "source": []
  }
 ],
 "metadata": {
  "kernelspec": {
   "display_name": "Python 2",
   "language": "python",
   "name": "python2"
  },
  "language_info": {
   "codemirror_mode": {
    "name": "ipython",
    "version": 2
   },
   "file_extension": ".py",
   "mimetype": "text/x-python",
   "name": "python",
   "nbconvert_exporter": "python",
   "pygments_lexer": "ipython2",
   "version": "2.7.6"
  }
 },
 "nbformat": 4,
 "nbformat_minor": 0
}
