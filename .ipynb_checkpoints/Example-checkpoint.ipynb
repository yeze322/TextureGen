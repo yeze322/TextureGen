{
 "cells": [
  {
   "cell_type": "code",
   "execution_count": null,
   "metadata": {
    "collapsed": false
   },
   "outputs": [],
   "source": [
    "%pylab inline\n",
    "import glob\n",
    "import sys\n",
    "import os\n",
    "from collections import OrderedDict\n",
    "import caffe\n",
    "base_dir = os.getcwd()\n",
    "sys.path.append(base_dir)\n",
    "from DeepImageSynthesis.ImageSyn import *\n",
    "from DeepImageSynthesis.Misc import *\n",
    "from DeepImageSynthesis import LossFunctions\n",
    "VGGweights = os.path.join(base_dir, 'Models/VGG_normalised.caffemodel')\n",
    "VGGmodel = os.path.join(base_dir, 'Models/VGG_ave_pool_deploy.prototxt')\n",
    "imagenet_mean = array([ 0.40760392,  0.45795686,  0.48501961]) #mean for color channels (bgr)\n",
    "im_dir = os.path.join(base_dir, 'Images/')\n",
    "gpu = 0\n",
    "caffe.set_mode_gpu() #for cpu mode do 'caffe.set_mode_cpu()'\n",
    "caffe.set_device(gpu)"
   ]
  },
  {
   "cell_type": "code",
   "execution_count": null,
   "metadata": {
    "collapsed": false
   },
   "outputs": [],
   "source": [
    "#load source image\n",
    "source_img_name = glob.glob1(im_dir, 'pebbles.jpg')[0]\n",
    "source_img_org = caffe.io.load_image(im_dir + source_img_name)\n",
    "[source_img, net] = load_resources(source_img_org, 50., \n",
    "                            VGGmodel, VGGweights, imagenet_mean, \n",
    "                            show_img=True)\n",
    "im_size = asarray(source_img.shape[-2:])"
   ]
  },
  {
   "cell_type": "code",
   "execution_count": null,
   "metadata": {
    "collapsed": false
   },
   "outputs": [],
   "source": [
    "#l-bfgs parameters optimisation\n",
    "maxiter = 500\n",
    "m = 20\n",
    "\n",
    "#define layers to include in the texture model and weights w_l\n",
    "tex_layers = ['pool4', 'pool3','pool2','pool1', 'conv1_1']\n",
    "tex_weights = [1e9,7e8,4e8,4e8,3e8]\n",
    "#tex_weights = [1e9 for i in range(len(tex_layers))]\n",
    "\n",
    "#pass image through the network and save the constraints on each layer\n",
    "constraints = OrderedDict()\n",
    "net.forward(data = source_img)\n",
    "for l,layer in enumerate(tex_layers):\n",
    "    constraints[layer] = constraint([LossFunctions.gram_mse_loss],\n",
    "                                    [{'target_gram_matrix': gram_matrix(net.blobs[layer].data),\n",
    "                                     'weight': tex_weights[l]}])\n",
    "    \n",
    "#get optimisation bounds\n",
    "bounds = get_bounds([source_img],im_size)\n",
    "\n",
    "#generate new texture\n",
    "result = ImageSyn(net, constraints, bounds=bounds,\n",
    "                  #init=caffe.io.load_image('Images/charpic.jpg'),\n",
    "                  callback=lambda x: show_progress(x,net), \n",
    "                  minimize_options={'maxiter': maxiter,\n",
    "                                    'maxcor': m,\n",
    "                                    'ftol': 0, 'gtol': 0})\n",
    "                                "
   ]
  },
  {
   "cell_type": "code",
   "execution_count": null,
   "metadata": {
    "collapsed": false
   },
   "outputs": [],
   "source": [
    "#match histogram of new texture with that of the source texture and show both images\n",
    "new_texture = result['x'].reshape(*source_img.shape[1:]).transpose(1,2,0)[:,:,::-1]\n",
    "new_texture = histogram_matching(new_texture, source_img_org)\n",
    "imshow(new_texture)\n",
    "show()\n",
    "figure()\n",
    "imshow(source_img_org)\n",
    "show()"
   ]
  },
  {
   "cell_type": "code",
   "execution_count": null,
   "metadata": {
    "collapsed": false
   },
   "outputs": [],
   "source": [
    "#match histogram of new texture with that of the source texture and show both images\n",
    "new_texture = result['x'].reshape(*source_img.shape[1:]).transpose(1,2,0)[:,:,::-1]\n",
    "new_texture = histogram_matching(new_texture, source_img_org)\n",
    "imshow(new_texture)\n",
    "figure()\n",
    "imshow(source_img_org)"
   ]
  },
  {
   "cell_type": "code",
   "execution_count": null,
   "metadata": {
    "collapsed": false
   },
   "outputs": [],
   "source": [
    "plot(getLossList())"
   ]
  },
  {
   "cell_type": "code",
   "execution_count": null,
   "metadata": {
    "collapsed": false
   },
   "outputs": [],
   "source": [
    "source_img.shape"
   ]
  },
  {
   "cell_type": "code",
   "execution_count": null,
   "metadata": {
    "collapsed": true
   },
   "outputs": [],
   "source": []
  }
 ],
 "metadata": {
  "kernelspec": {
   "display_name": "Python 2",
   "language": "python",
   "name": "python2"
  },
  "language_info": {
   "codemirror_mode": {
    "name": "ipython",
    "version": 2
   },
   "file_extension": ".py",
   "mimetype": "text/x-python",
   "name": "python",
   "nbconvert_exporter": "python",
   "pygments_lexer": "ipython2",
   "version": "2.7.6"
  }
 },
 "nbformat": 4,
 "nbformat_minor": 0
}
